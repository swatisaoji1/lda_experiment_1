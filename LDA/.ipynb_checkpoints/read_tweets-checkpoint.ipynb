{
 "cells": [
  {
   "cell_type": "code",
   "execution_count": 81,
   "metadata": {
    "collapsed": true
   },
   "outputs": [],
   "source": [
    "import pandas as pd\n",
    "from pymongo import MongoClient"
   ]
  },
  {
   "cell_type": "code",
   "execution_count": 82,
   "metadata": {
    "collapsed": false
   },
   "outputs": [
    {
     "name": "stdout",
     "output_type": "stream",
     "text": [
      "Collection(Database(MongoClient(host=['localhost:27017'], document_class=dict, tz_aware=False, connect=True), u'data_collect'), u'old_tweets')\n"
     ]
    }
   ],
   "source": [
    "# Create connection to the database\n",
    "conn = MongoClient(\"localhost\", 27017)\n",
    "db = conn['data_collect']\n",
    "collection = db['old_tweets']\n",
    "print (collection)"
   ]
  },
  {
   "cell_type": "code",
   "execution_count": 83,
   "metadata": {
    "collapsed": true
   },
   "outputs": [],
   "source": [
    "pipeline = [\n",
    "    {\"$limit\" : 1000},\n",
    "    {\"$project\" : {\"_id\" : 0, \"username\" : 1, \"user_id\": 1, \"old_tweet_list.text\" : 1}},\n",
    "    {\"$unwind\" : \"$old_tweet_list\"}\n",
    "]\n",
    "cursor = collection.aggregate(pipeline)\n",
    "df =  pd.DataFrame(list(cursor))"
   ]
  },
  {
   "cell_type": "code",
   "execution_count": 85,
   "metadata": {
    "collapsed": false
   },
   "outputs": [
    {
     "name": "stdout",
     "output_type": "stream",
     "text": [
      "    user_id       username                                     old_tweet_list\n",
      "0  17312100   FitYourStyle  {u'text': u'Yes! Love, love, love ! Enjoy the ...\n",
      "1  17312100   FitYourStyle  {u'text': u'Hi, @FitYourStyle I hope u are fin...\n",
      "2  17312100   FitYourStyle   {u'text': u'. @LoriRMixson Hello from Toronto!'}\n",
      "3  17312100   FitYourStyle  {u'text': u'@FitYourStyle Thank you Jennifer -...\n",
      "4  17312100   FitYourStyle  {u'text': u'Love from #Aurora #TheHip pic.twit...\n"
     ]
    }
   ],
   "source": [
    "df1 = df.ix[:, ['user_id', 'username', 'old_tweet_list']]\n",
    "print (df1[:5])"
   ]
  },
  {
   "cell_type": "code",
   "execution_count": 89,
   "metadata": {
    "collapsed": true
   },
   "outputs": [],
   "source": [
    "dict_to_string = lambda x : x['text']\n",
    "df1['old_tweet_list'] = df1['old_tweet_list'].apply(dict_to_string)"
   ]
  },
  {
   "cell_type": "code",
   "execution_count": 90,
   "metadata": {
    "collapsed": false
   },
   "outputs": [
    {
     "name": "stdout",
     "output_type": "stream",
     "text": [
      "    user_id       username                                     old_tweet_list\n",
      "0  17312100   FitYourStyle  Yes! Love, love, love ! Enjoy the day @FitYour...\n",
      "1  17312100   FitYourStyle  Hi, @FitYourStyle I hope u are fine. I just lo...\n",
      "2  17312100   FitYourStyle                 . @LoriRMixson Hello from Toronto!\n",
      "3  17312100   FitYourStyle  @FitYourStyle Thank you Jennifer - Hi from #Te...\n",
      "4  17312100   FitYourStyle  Love from #Aurora #TheHip pic.twitter.com/4A2L...\n"
     ]
    }
   ],
   "source": [
    "print (df1[:5])"
   ]
  },
  {
   "cell_type": "code",
   "execution_count": 91,
   "metadata": {
    "collapsed": true
   },
   "outputs": [],
   "source": [
    "df1.to_csv('single_tweet_doc_AmericanCrime_1000.csv',encoding='utf-8')"
   ]
  },
  {
   "cell_type": "code",
   "execution_count": 92,
   "metadata": {
    "collapsed": false
   },
   "outputs": [
    {
     "data": {
      "text/plain": [
       "u'/media/Store/Fall2016_Twitter'"
      ]
     },
     "execution_count": 92,
     "metadata": {},
     "output_type": "execute_result"
    }
   ],
   "source": [
    "%pwd"
   ]
  }
 ],
 "metadata": {
  "kernelspec": {
   "display_name": "Python 2",
   "language": "python",
   "name": "python2"
  },
  "language_info": {
   "codemirror_mode": {
    "name": "ipython",
    "version": 2
   },
   "file_extension": ".py",
   "mimetype": "text/x-python",
   "name": "python",
   "nbconvert_exporter": "python",
   "pygments_lexer": "ipython2",
   "version": "2.7.6"
  }
 },
 "nbformat": 4,
 "nbformat_minor": 0
}
