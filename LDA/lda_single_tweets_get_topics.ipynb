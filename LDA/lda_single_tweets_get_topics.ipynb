{
 "cells": [
  {
   "cell_type": "code",
   "execution_count": 7,
   "metadata": {
    "collapsed": true
   },
   "outputs": [],
   "source": [
    "%matplotlib inline\n",
    "import pandas as pd\n",
    "import pyLDAvis.gensim\n",
    "import warnings\n",
    "import matplotlib.pyplot as plt\n",
    "import re\n",
    "import gensim\n",
    "from gensim import corpora, models\n",
    "import logging\n",
    "\n",
    "\n",
    "pyLDAvis.enable_notebook()\n",
    "warnings.filterwarnings('ignore')\n",
    "\n",
    "logging.basicConfig(filename='LDA/logs/glda_single_tweet.log', level=logging.DEBUG, format='%(asctime)s %(message)s')"
   ]
  },
  {
   "cell_type": "code",
   "execution_count": 8,
   "metadata": {},
   "outputs": [
    {
     "name": "stdout",
     "output_type": "stream",
     "text": [
      "Dictionary(13649 unique tokens: [u'abctvevent', u'yellow', u'jihad', u'hanging', u'woody']...)\n"
     ]
    }
   ],
   "source": [
    "# read dictionary and corpora\n",
    "logging.debug(\"reading dictionary\")\n",
    "dictionary = corpora.Dictionary.load('LDA/data/single_tweet_doc_AmericanCrime_1000_dict.dict')\n",
    "print(dictionary)"
   ]
  },
  {
   "cell_type": "code",
   "execution_count": 10,
   "metadata": {},
   "outputs": [
    {
     "name": "stdout",
     "output_type": "stream",
     "text": [
      "MmCorpus(50951 documents, 13649 features, 447664 non-zero entries)\n"
     ]
    }
   ],
   "source": [
    "corpus = corpora.MmCorpus('LDA/data/single_tweet_doc_AmericanCrime_1000_corpus.mm')\n",
    "corpus[:5]\n",
    "print(corpus)"
   ]
  },
  {
   "cell_type": "code",
   "execution_count": null,
   "metadata": {},
   "outputs": [],
   "source": [
    "lda_params={'num_topics': 20, 'passes': 10, 'alpha': 0.1}\n",
    "\n",
    "# train the lda model\n",
    "lda = models.LdaModel(corpus, id2word=dictionary,\n",
    "                    num_topics=lda_params['num_topics'],\n",
    "                    passes=lda_params['passes'],\n",
    "                    alpha = lda_params['alpha'])\n",
    "\n",
    "lda.show_topics()"
   ]
  },
  {
   "cell_type": "code",
   "execution_count": null,
   "metadata": {},
   "outputs": [],
   "source": [
    "pyLDAvis.gensim.prepare(lda, corpus, dictionary)"
   ]
  },
  {
   "cell_type": "code",
   "execution_count": null,
   "outputs": [],
   "source": [
    ""
   ]
  }
 ],
 "metadata": {
  "kernelspec": {
   "display_name": "Python 2",
   "language": "python",
   "name": "python2"
  },
  "language_info": {
   "codemirror_mode": {
    "name": "ipython",
    "version": 2.0
   },
   "file_extension": ".py",
   "mimetype": "text/x-python",
   "name": "python",
   "nbconvert_exporter": "python",
   "pygments_lexer": "ipython2",
   "version": "2.7.6"
  }
 },
 "nbformat": 4,
 "nbformat_minor": 0
}